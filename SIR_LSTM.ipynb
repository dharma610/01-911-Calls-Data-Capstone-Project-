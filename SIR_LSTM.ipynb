{
  "nbformat": 4,
  "nbformat_minor": 0,
  "metadata": {
    "kernelspec": {
      "display_name": "Python 3",
      "language": "python",
      "name": "python3"
    },
    "language_info": {
      "codemirror_mode": {
        "name": "ipython",
        "version": 3
      },
      "file_extension": ".py",
      "mimetype": "text/x-python",
      "name": "python",
      "nbconvert_exporter": "python",
      "pygments_lexer": "ipython3",
      "version": "3.7.3"
    },
    "colab": {
      "name": "01-RNN-Example.ipynb",
      "provenance": [],
      "include_colab_link": true
    }
  },
  "cells": [
    {
      "cell_type": "markdown",
      "metadata": {
        "id": "view-in-github",
        "colab_type": "text"
      },
      "source": [
        "<a href=\"https://colab.research.google.com/github/dharma610/01-911-Calls-Data-Capstone-Project-/blob/master/SIR_LSTM.ipynb\" target=\"_parent\"><img src=\"https://colab.research.google.com/assets/colab-badge.svg\" alt=\"Open In Colab\"/></a>"
      ]
    },
    {
      "cell_type": "code",
      "metadata": {
        "id": "dZki72NpnQMl",
        "colab_type": "code",
        "colab": {}
      },
      "source": [
        "import pandas as pd\n",
        "import numpy as np\n",
        "%matplotlib inline\n",
        "import matplotlib.pyplot as plt"
      ],
      "execution_count": 1,
      "outputs": []
    },
    {
      "cell_type": "code",
      "metadata": {
        "id": "OEert8fd2_Hg",
        "colab_type": "code",
        "colab": {
          "base_uri": "https://localhost:8080/",
          "height": 336
        },
        "outputId": "45d9acb6-219b-4a09-88ed-bea38f5516f8"
      },
      "source": [
        "from scipy.integrate import odeint\n",
        "import numpy as np\n",
        "import pandas as pd\n",
        "from random import sample\n",
        "import matplotlib.pyplot as plt\n",
        "%matplotlib inline \n",
        "!pip install mpld3\n",
        "import mpld3\n",
        "mpld3.enable_notebook()"
      ],
      "execution_count": 2,
      "outputs": [
        {
          "output_type": "stream",
          "text": [
            "Collecting mpld3\n",
            "\u001b[?25l  Downloading https://files.pythonhosted.org/packages/66/31/89bd2afd21b920e3612996623e7b3aac14d741537aa77600ea5102a34be0/mpld3-0.5.1.tar.gz (1.0MB)\n",
            "\r\u001b[K     |▎                               | 10kB 20.6MB/s eta 0:00:01\r\u001b[K     |▋                               | 20kB 7.0MB/s eta 0:00:01\r\u001b[K     |█                               | 30kB 8.0MB/s eta 0:00:01\r\u001b[K     |█▎                              | 40kB 7.8MB/s eta 0:00:01\r\u001b[K     |█▋                              | 51kB 7.3MB/s eta 0:00:01\r\u001b[K     |██                              | 61kB 7.8MB/s eta 0:00:01\r\u001b[K     |██▏                             | 71kB 8.3MB/s eta 0:00:01\r\u001b[K     |██▌                             | 81kB 8.7MB/s eta 0:00:01\r\u001b[K     |██▉                             | 92kB 8.1MB/s eta 0:00:01\r\u001b[K     |███▏                            | 102kB 8.3MB/s eta 0:00:01\r\u001b[K     |███▌                            | 112kB 8.3MB/s eta 0:00:01\r\u001b[K     |███▉                            | 122kB 8.3MB/s eta 0:00:01\r\u001b[K     |████                            | 133kB 8.3MB/s eta 0:00:01\r\u001b[K     |████▍                           | 143kB 8.3MB/s eta 0:00:01\r\u001b[K     |████▊                           | 153kB 8.3MB/s eta 0:00:01\r\u001b[K     |█████                           | 163kB 8.3MB/s eta 0:00:01\r\u001b[K     |█████▍                          | 174kB 8.3MB/s eta 0:00:01\r\u001b[K     |█████▊                          | 184kB 8.3MB/s eta 0:00:01\r\u001b[K     |██████                          | 194kB 8.3MB/s eta 0:00:01\r\u001b[K     |██████▎                         | 204kB 8.3MB/s eta 0:00:01\r\u001b[K     |██████▋                         | 215kB 8.3MB/s eta 0:00:01\r\u001b[K     |███████                         | 225kB 8.3MB/s eta 0:00:01\r\u001b[K     |███████▎                        | 235kB 8.3MB/s eta 0:00:01\r\u001b[K     |███████▋                        | 245kB 8.3MB/s eta 0:00:01\r\u001b[K     |███████▉                        | 256kB 8.3MB/s eta 0:00:01\r\u001b[K     |████████▏                       | 266kB 8.3MB/s eta 0:00:01\r\u001b[K     |████████▌                       | 276kB 8.3MB/s eta 0:00:01\r\u001b[K     |████████▉                       | 286kB 8.3MB/s eta 0:00:01\r\u001b[K     |█████████▏                      | 296kB 8.3MB/s eta 0:00:01\r\u001b[K     |█████████▌                      | 307kB 8.3MB/s eta 0:00:01\r\u001b[K     |█████████▊                      | 317kB 8.3MB/s eta 0:00:01\r\u001b[K     |██████████                      | 327kB 8.3MB/s eta 0:00:01\r\u001b[K     |██████████▍                     | 337kB 8.3MB/s eta 0:00:01\r\u001b[K     |██████████▊                     | 348kB 8.3MB/s eta 0:00:01\r\u001b[K     |███████████                     | 358kB 8.3MB/s eta 0:00:01\r\u001b[K     |███████████▍                    | 368kB 8.3MB/s eta 0:00:01\r\u001b[K     |███████████▋                    | 378kB 8.3MB/s eta 0:00:01\r\u001b[K     |████████████                    | 389kB 8.3MB/s eta 0:00:01\r\u001b[K     |████████████▎                   | 399kB 8.3MB/s eta 0:00:01\r\u001b[K     |████████████▋                   | 409kB 8.3MB/s eta 0:00:01\r\u001b[K     |█████████████                   | 419kB 8.3MB/s eta 0:00:01\r\u001b[K     |█████████████▎                  | 430kB 8.3MB/s eta 0:00:01\r\u001b[K     |█████████████▌                  | 440kB 8.3MB/s eta 0:00:01\r\u001b[K     |█████████████▉                  | 450kB 8.3MB/s eta 0:00:01\r\u001b[K     |██████████████▏                 | 460kB 8.3MB/s eta 0:00:01\r\u001b[K     |██████████████▌                 | 471kB 8.3MB/s eta 0:00:01\r\u001b[K     |██████████████▉                 | 481kB 8.3MB/s eta 0:00:01\r\u001b[K     |███████████████▏                | 491kB 8.3MB/s eta 0:00:01\r\u001b[K     |███████████████▍                | 501kB 8.3MB/s eta 0:00:01\r\u001b[K     |███████████████▊                | 512kB 8.3MB/s eta 0:00:01\r\u001b[K     |████████████████                | 522kB 8.3MB/s eta 0:00:01\r\u001b[K     |████████████████▍               | 532kB 8.3MB/s eta 0:00:01\r\u001b[K     |████████████████▊               | 542kB 8.3MB/s eta 0:00:01\r\u001b[K     |█████████████████               | 552kB 8.3MB/s eta 0:00:01\r\u001b[K     |█████████████████▎              | 563kB 8.3MB/s eta 0:00:01\r\u001b[K     |█████████████████▋              | 573kB 8.3MB/s eta 0:00:01\r\u001b[K     |██████████████████              | 583kB 8.3MB/s eta 0:00:01\r\u001b[K     |██████████████████▎             | 593kB 8.3MB/s eta 0:00:01\r\u001b[K     |██████████████████▋             | 604kB 8.3MB/s eta 0:00:01\r\u001b[K     |███████████████████             | 614kB 8.3MB/s eta 0:00:01\r\u001b[K     |███████████████████▏            | 624kB 8.3MB/s eta 0:00:01\r\u001b[K     |███████████████████▌            | 634kB 8.3MB/s eta 0:00:01\r\u001b[K     |███████████████████▉            | 645kB 8.3MB/s eta 0:00:01\r\u001b[K     |████████████████████▏           | 655kB 8.3MB/s eta 0:00:01\r\u001b[K     |████████████████████▌           | 665kB 8.3MB/s eta 0:00:01\r\u001b[K     |████████████████████▉           | 675kB 8.3MB/s eta 0:00:01\r\u001b[K     |█████████████████████           | 686kB 8.3MB/s eta 0:00:01\r\u001b[K     |█████████████████████▍          | 696kB 8.3MB/s eta 0:00:01\r\u001b[K     |█████████████████████▊          | 706kB 8.3MB/s eta 0:00:01\r\u001b[K     |██████████████████████          | 716kB 8.3MB/s eta 0:00:01\r\u001b[K     |██████████████████████▍         | 727kB 8.3MB/s eta 0:00:01\r\u001b[K     |██████████████████████▊         | 737kB 8.3MB/s eta 0:00:01\r\u001b[K     |███████████████████████         | 747kB 8.3MB/s eta 0:00:01\r\u001b[K     |███████████████████████▎        | 757kB 8.3MB/s eta 0:00:01\r\u001b[K     |███████████████████████▋        | 768kB 8.3MB/s eta 0:00:01\r\u001b[K     |████████████████████████        | 778kB 8.3MB/s eta 0:00:01\r\u001b[K     |████████████████████████▎       | 788kB 8.3MB/s eta 0:00:01\r\u001b[K     |████████████████████████▋       | 798kB 8.3MB/s eta 0:00:01\r\u001b[K     |████████████████████████▉       | 808kB 8.3MB/s eta 0:00:01\r\u001b[K     |█████████████████████████▏      | 819kB 8.3MB/s eta 0:00:01\r\u001b[K     |█████████████████████████▌      | 829kB 8.3MB/s eta 0:00:01\r\u001b[K     |█████████████████████████▉      | 839kB 8.3MB/s eta 0:00:01\r\u001b[K     |██████████████████████████▏     | 849kB 8.3MB/s eta 0:00:01\r\u001b[K     |██████████████████████████▌     | 860kB 8.3MB/s eta 0:00:01\r\u001b[K     |██████████████████████████▊     | 870kB 8.3MB/s eta 0:00:01\r\u001b[K     |███████████████████████████     | 880kB 8.3MB/s eta 0:00:01\r\u001b[K     |███████████████████████████▍    | 890kB 8.3MB/s eta 0:00:01\r\u001b[K     |███████████████████████████▊    | 901kB 8.3MB/s eta 0:00:01\r\u001b[K     |████████████████████████████    | 911kB 8.3MB/s eta 0:00:01\r\u001b[K     |████████████████████████████▍   | 921kB 8.3MB/s eta 0:00:01\r\u001b[K     |████████████████████████████▋   | 931kB 8.3MB/s eta 0:00:01\r\u001b[K     |█████████████████████████████   | 942kB 8.3MB/s eta 0:00:01\r\u001b[K     |█████████████████████████████▎  | 952kB 8.3MB/s eta 0:00:01\r\u001b[K     |█████████████████████████████▋  | 962kB 8.3MB/s eta 0:00:01\r\u001b[K     |██████████████████████████████  | 972kB 8.3MB/s eta 0:00:01\r\u001b[K     |██████████████████████████████▎ | 983kB 8.3MB/s eta 0:00:01\r\u001b[K     |██████████████████████████████▌ | 993kB 8.3MB/s eta 0:00:01\r\u001b[K     |██████████████████████████████▉ | 1.0MB 8.3MB/s eta 0:00:01\r\u001b[K     |███████████████████████████████▏| 1.0MB 8.3MB/s eta 0:00:01\r\u001b[K     |███████████████████████████████▌| 1.0MB 8.3MB/s eta 0:00:01\r\u001b[K     |███████████████████████████████▉| 1.0MB 8.3MB/s eta 0:00:01\r\u001b[K     |████████████████████████████████| 1.0MB 8.3MB/s \n",
            "\u001b[?25hRequirement already satisfied: jinja2 in /usr/local/lib/python3.6/dist-packages (from mpld3) (2.11.2)\n",
            "Requirement already satisfied: matplotlib in /usr/local/lib/python3.6/dist-packages (from mpld3) (3.2.2)\n",
            "Requirement already satisfied: MarkupSafe>=0.23 in /usr/local/lib/python3.6/dist-packages (from jinja2->mpld3) (1.1.1)\n",
            "Requirement already satisfied: kiwisolver>=1.0.1 in /usr/local/lib/python3.6/dist-packages (from matplotlib->mpld3) (1.2.0)\n",
            "Requirement already satisfied: cycler>=0.10 in /usr/local/lib/python3.6/dist-packages (from matplotlib->mpld3) (0.10.0)\n",
            "Requirement already satisfied: python-dateutil>=2.1 in /usr/local/lib/python3.6/dist-packages (from matplotlib->mpld3) (2.8.1)\n",
            "Requirement already satisfied: pyparsing!=2.0.4,!=2.1.2,!=2.1.6,>=2.0.1 in /usr/local/lib/python3.6/dist-packages (from matplotlib->mpld3) (2.4.7)\n",
            "Requirement already satisfied: numpy>=1.11 in /usr/local/lib/python3.6/dist-packages (from matplotlib->mpld3) (1.18.5)\n",
            "Requirement already satisfied: six in /usr/local/lib/python3.6/dist-packages (from cycler>=0.10->matplotlib->mpld3) (1.15.0)\n",
            "Building wheels for collected packages: mpld3\n",
            "  Building wheel for mpld3 (setup.py) ... \u001b[?25l\u001b[?25hdone\n",
            "  Created wheel for mpld3: filename=mpld3-0.5.1-cp36-none-any.whl size=364065 sha256=34030e8b4434a744acb72d473e0fa7a28acf47df00d1ea6496783e4fb9a6e861\n",
            "  Stored in directory: /root/.cache/pip/wheels/38/68/06/d119af6c3f9a2d1e123c1f72d276576b457131b3a7bf94e402\n",
            "Successfully built mpld3\n",
            "Installing collected packages: mpld3\n",
            "Successfully installed mpld3-0.5.1\n"
          ],
          "name": "stdout"
        }
      ]
    },
    {
      "cell_type": "code",
      "metadata": {
        "id": "Q-5sqjDr3F1e",
        "colab_type": "code",
        "colab": {}
      },
      "source": [
        "def deriv(y, t, N, beta, gamma):\n",
        "    S, I, R = y\n",
        "    dSdt = -beta * S * I / N\n",
        "    dIdt = beta * S * I / N - gamma * I\n",
        "    dRdt = gamma * I\n",
        "    return dSdt, dIdt, dRdt"
      ],
      "execution_count": 3,
      "outputs": []
    },
    {
      "cell_type": "code",
      "metadata": {
        "id": "Eh2qv55q3Hpe",
        "colab_type": "code",
        "colab": {}
      },
      "source": [
        "def plotsir(t, S, I, R):\n",
        "  f, ax = plt.subplots(1,1,figsize=(10,4))\n",
        "  ax.plot(t, S, 'b', alpha=0.7, linewidth=2, label='Susceptible')\n",
        "  ax.plot(t, I, 'y', alpha=0.7, linewidth=2, label='Infected')\n",
        "  ax.plot(t, R, 'g', alpha=0.7, linewidth=2, label='Recovered')\n",
        "  ax.set_xlabel('Time (days)')\n",
        "  ax.yaxis.set_tick_params(length=0)\n",
        "  ax.xaxis.set_tick_params(length=0)\n",
        "  ax.grid(b=True, which='major', c='w', lw=2, ls='-')\n",
        "  legend = ax.legend()\n",
        "  legend.get_frame().set_alpha(0.5)\n",
        "  for spine in ('top', 'right', 'bottom', 'left'):\n",
        "      ax.spines[spine].set_visible(False)\n",
        "  plt.show();"
      ],
      "execution_count": 4,
      "outputs": []
    },
    {
      "cell_type": "code",
      "metadata": {
        "id": "57Sj0WsF3P3_",
        "colab_type": "code",
        "colab": {}
      },
      "source": [
        "\"\"\" gamma is a list of 1000 random number in (0,1) \"\"\"\n",
        "\n",
        "import random\n",
        "gamma = []\n",
        "for i in range(1000):\n",
        "    gamma.append(random.uniform(0, 1))\n",
        "    \n"
      ],
      "execution_count": 5,
      "outputs": []
    },
    {
      "cell_type": "code",
      "metadata": {
        "id": "kc3Hi5vN3QJH",
        "colab_type": "code",
        "colab": {}
      },
      "source": [
        "\"\"\" beta is twice of each of 1000 gamma values \"\"\"\n",
        "beta = []\n",
        "for i in range(1000):\n",
        "  beta.append(2*gamma[i])  "
      ],
      "execution_count": 6,
      "outputs": []
    },
    {
      "cell_type": "code",
      "metadata": {
        "id": "OwpvcU_m3QXf",
        "colab_type": "code",
        "colab": {}
      },
      "source": [
        "\"\"\" P, Q, M are the list of S, I, R respectievely calculated for 100 days for each of  1000 sets of parameter (beta,gamma).\"\"\"\n",
        "    \n",
        "P = []\n",
        "Q = []\n",
        "M  = []\n",
        "for i in range(1000): #Plotted for 2 sets\n",
        "  N = 1000\n",
        "  S0, I0, R0 = 999, 1, 0  # initial conditions: one infected, rest susceptible\n",
        "  t = np.linspace(0, 99, 100) # Grid of time points (in days)\n",
        "  y0 = S0, I0, R0 # Initial conditions vector\n",
        "  # Integrate the SIR equations over the time grid, t.\n",
        "  ret = odeint(deriv, y0, t, args=(N, beta[i], gamma[i]))\n",
        "  S, I, R = ret.T\n",
        "  P.append(S)\n",
        "  Q.append(I)\n",
        "  M.append(R)\n",
        "\n",
        "  "
      ],
      "execution_count": 13,
      "outputs": []
    },
    {
      "cell_type": "code",
      "metadata": {
        "id": "IvHINPOi3ULn",
        "colab_type": "code",
        "colab": {}
      },
      "source": [
        "\"\"\" list to dataftrame \"\"\"\n",
        "\n",
        "S_value = pd.DataFrame(P)\n",
        "I_value = pd.DataFrame(Q)\n",
        "R_value = pd.DataFrame(M)"
      ],
      "execution_count": 14,
      "outputs": []
    },
    {
      "cell_type": "code",
      "metadata": {
        "id": "n7cUGfRanQMq",
        "colab_type": "code",
        "colab": {}
      },
      "source": [
        "data = np.array(S_value.iloc[0]).reshape(100,1)"
      ],
      "execution_count": 17,
      "outputs": []
    },
    {
      "cell_type": "code",
      "metadata": {
        "id": "Y3HdZzDrnQMv",
        "colab_type": "code",
        "colab": {
          "base_uri": "https://localhost:8080/",
          "height": 326
        },
        "outputId": "f1a8d548-75c8-470f-d880-ee66bad46a8d"
      },
      "source": [
        "plt.plot(data)"
      ],
      "execution_count": 19,
      "outputs": [
        {
          "output_type": "execute_result",
          "data": {
            "text/plain": [
              "[<matplotlib.lines.Line2D at 0x7fc30a5aa630>]"
            ]
          },
          "metadata": {
            "tags": []
          },
          "execution_count": 19
        },
        {
          "output_type": "display_data",
          "data": {
            "image/png": "[encoded data removed]",
            "text/html": [
              "\n",
              "\n",
              "<style>\n",
              "\n",
              "</style>\n",
              "\n",
              "<div id=\"fig_el1301404756735870485475248388\"></div>\n",
              "<script>\n",
              "function mpld3_load_lib(url, callback){\n",
              "  var s = document.createElement('script');\n",
              "  s.src = url;\n",
              "  s.async = true;\n",
              "  s.onreadystatechange = s.onload = callback;\n",
              "  s.onerror = function(){console.warn(\"failed to load library \" + url);};\n",
              "  document.getElementsByTagName(\"head\")[0].appendChild(s);\n",
              "}\n",
              "\n",
              "if(typeof(mpld3) !== \"undefined\" && mpld3._mpld3IsLoaded){\n",
              "   // already loaded: just create the figure\n",
              "   !function(mpld3){\n",
              "       \n",
              "       mpld3.draw_figure(\"fig_el1301404756735870485475248388\", {\"width\": 432.0, \"height\": 288.0, \"axes\": [{\"bbox\": [0.125, 0.125, 0.775, 0.755], \"xlim\": [-4.95, 103.95], \"ylim\": [163.03930321329233, 1038.8076522279384], \"xdomain\": [-4.95, 103.95], \"ydomain\": [163.03930321329233, 1038.8076522279384], \"xscale\": \"linear\", \"yscale\": \"linear\", \"axes\": [{\"position\": \"bottom\", \"nticks\": 8, \"tickvalues\": null, \"tickformat_formatter\": \"\", \"tickformat\": null, \"scale\": \"linear\", \"fontsize\": 10.0, \"grid\": {\"gridOn\": false}, \"visible\": true}, {\"position\": \"left\", \"nticks\": 11, \"tickvalues\": null, \"tickformat_formatter\": \"\", \"tickformat\": null, \"scale\": \"linear\", \"fontsize\": 10.0, \"grid\": {\"gridOn\": false}, \"visible\": true}], \"axesbg\": \"#FFFFFF\", \"axesbgalpha\": null, \"zoomable\": true, \"id\": \"el130140475676146320\", \"lines\": [{\"data\": \"data01\", \"xindex\": 0, \"yindex\": 1, \"coordinates\": \"data\", \"id\": \"el130140475669063216\", \"color\": \"#1F77B4\", \"linewidth\": 1.5, \"dasharray\": \"none\", \"alpha\": 1, \"zorder\": 2, \"drawstyle\": \"default\"}], \"paths\": [], \"markers\": [], \"texts\": [], \"collections\": [], \"images\": [], \"sharex\": [], \"sharey\": []}], \"data\": {\"data01\": [[0.0, 999.0], [1.0, 998.351669226864], [2.0, 997.4942781204479], [3.0, 996.361242960265], [4.0, 994.8653937900141], [5.0, 992.8930703744893], [6.0, 990.296868695871], [7.0, 986.8869909961877], [8.0, 982.4213874258096], [9.0, 976.5953168853558], [10.0, 969.0317041494884], [11.0, 959.2748297908672], [12.0, 946.7914897179418], [13.0, 930.9856160656902], [14.0, 911.2338182159696], [15.0, 886.9490268446019], [16.0, 857.6753434623589], [17.0, 823.2073596999861], [18.0, 783.7118787538692], [19.0, 739.8144010035719], [20.0, 692.6077104287992], [21.0, 643.5560978478795], [22.0, 594.305765786298], [23.0, 546.452194992469], [24.0, 501.33352760151894], [25.0, 459.9036121600762], [26.0, 422.7010877336365], [27.0, 389.8958297095894], [28.0, 361.3772927151011], [29.0, 336.8515090918306], [30.0, 315.9254409699462], [31.0, 298.16994607718976], [32.0, 283.16123956913987], [33.0, 270.5048648568098], [34.0, 259.84721056648436], [35.0, 250.8790133153727], [36.0, 243.33419444222955], [37.0, 236.98629363107554], [38.0, 231.64391381357913], [39.0, 227.14599454473313], [40.0, 223.35734518367792], [41.0, 220.16463385810113], [42.0, 217.47289382708846], [43.0, 215.20253815259332], [44.0, 213.28683879059832], [45.0, 211.6698121051793], [46.0, 210.30445330325065], [47.0, 209.15126550056266], [48.0, 208.17703488960888], [49.0, 207.3538107868752], [50.0, 206.65805566414346], [51.0, 206.06993614259974], [52.0, 205.57273083108163], [53.0, 205.15233513247355], [54.0, 204.79684660961533], [55.0, 204.49621737747407], [56.0, 204.2419623697188], [57.0, 204.0269142374466], [58.0, 203.84501724716455], [59.0, 203.69115377028666], [60.0, 203.56099822075853], [61.0, 203.45089389256955], [62.0, 203.357749132087], [63.0, 203.2789497258728], [64.0, 203.21228496387863], [65.0, 203.15588520477763], [66.0, 203.1081691485475], [67.0, 203.06779928924357], [68.0, 203.03364427207927], [69.0, 203.00474707938088], [70.0, 202.98029813669257], [71.0, 202.95961257636867], [72.0, 202.94211101492436], [73.0, 202.92730328813778], [74.0, 202.9147747145597], [75.0, 202.9041744601736], [76.0, 202.89520570503856], [77.0, 202.8876173252469], [78.0, 202.88119685549918], [79.0, 202.8757645359925], [80.0, 202.8711682779009], [81.0, 202.86727940301662], [82.0, 202.86398903753036], [83.0, 202.86120506728454], [84.0, 202.8588495552009], [85.0, 202.85685655940398], [86.0, 202.85517028728137], [87.0, 202.85374353336306], [88.0, 202.85253635690785], [89.0, 202.85151496475248], [90.0, 202.85065076452832], [91.0, 202.84991956425662], [92.0, 202.84930089517184], [93.0, 202.84877743877618], [94.0, 202.8483345417737], [95.0, 202.84795980614174], [96.0, 202.84764274190576], [97.0, 202.8473744734775], [98.0, 202.84714749121233], [99.0, 202.8469554412308]]}, \"id\": \"el130140475673587048\", \"plugins\": [{\"type\": \"reset\"}, {\"type\": \"zoom\", \"button\": true, \"enabled\": false}, {\"type\": \"boxzoom\", \"button\": true, \"enabled\": false}]});\n",
              "   }(mpld3);\n",
              "}else if(typeof define === \"function\" && define.amd){\n",
              "   // require.js is available: use it to load d3/mpld3\n",
              "   require.config({paths: {d3: \"https://d3js.org/d3.v5\"}});\n",
              "   require([\"d3\"], function(d3){\n",
              "      window.d3 = d3;\n",
              "      mpld3_load_lib(\"https://mpld3.github.io/js/mpld3.v0.5.1.js\", function(){\n",
              "         \n",
              "         mpld3.draw_figure(\"fig_el1301404756735870485475248388\", {\"width\": 432.0, \"height\": 288.0, \"axes\": [{\"bbox\": [0.125, 0.125, 0.775, 0.755], \"xlim\": [-4.95, 103.95], \"ylim\": [163.03930321329233, 1038.8076522279384], \"xdomain\": [-4.95, 103.95], \"ydomain\": [163.03930321329233, 1038.8076522279384], \"xscale\": \"linear\", \"yscale\": \"linear\", \"axes\": [{\"position\": \"bottom\", \"nticks\": 8, \"tickvalues\": null, \"tickformat_formatter\": \"\", \"tickformat\": null, \"scale\": \"linear\", \"fontsize\": 10.0, \"grid\": {\"gridOn\": false}, \"visible\": true}, {\"position\": \"left\", \"nticks\": 11, \"tickvalues\": null, \"tickformat_formatter\": \"\", \"tickformat\": null, \"scale\": \"linear\", \"fontsize\": 10.0, \"grid\": {\"gridOn\": false}, \"visible\": true}], \"axesbg\": \"#FFFFFF\", \"axesbgalpha\": null, \"zoomable\": true, \"id\": \"el130140475676146320\", \"lines\": [{\"data\": \"data01\", \"xindex\": 0, \"yindex\": 1, \"coordinates\": \"data\", \"id\": \"el130140475669063216\", \"color\": \"#1F77B4\", \"linewidth\": 1.5, \"dasharray\": \"none\", \"alpha\": 1, \"zorder\": 2, \"drawstyle\": \"default\"}], \"paths\": [], \"markers\": [], \"texts\": [], \"collections\": [], \"images\": [], \"sharex\": [], \"sharey\": []}], \"data\": {\"data01\": [[0.0, 999.0], [1.0, 998.351669226864], [2.0, 997.4942781204479], [3.0, 996.361242960265], [4.0, 994.8653937900141], [5.0, 992.8930703744893], [6.0, 990.296868695871], [7.0, 986.8869909961877], [8.0, 982.4213874258096], [9.0, 976.5953168853558], [10.0, 969.0317041494884], [11.0, 959.2748297908672], [12.0, 946.7914897179418], [13.0, 930.9856160656902], [14.0, 911.2338182159696], [15.0, 886.9490268446019], [16.0, 857.6753434623589], [17.0, 823.2073596999861], [18.0, 783.7118787538692], [19.0, 739.8144010035719], [20.0, 692.6077104287992], [21.0, 643.5560978478795], [22.0, 594.305765786298], [23.0, 546.452194992469], [24.0, 501.33352760151894], [25.0, 459.9036121600762], [26.0, 422.7010877336365], [27.0, 389.8958297095894], [28.0, 361.3772927151011], [29.0, 336.8515090918306], [30.0, 315.9254409699462], [31.0, 298.16994607718976], [32.0, 283.16123956913987], [33.0, 270.5048648568098], [34.0, 259.84721056648436], [35.0, 250.8790133153727], [36.0, 243.33419444222955], [37.0, 236.98629363107554], [38.0, 231.64391381357913], [39.0, 227.14599454473313], [40.0, 223.35734518367792], [41.0, 220.16463385810113], [42.0, 217.47289382708846], [43.0, 215.20253815259332], [44.0, 213.28683879059832], [45.0, 211.6698121051793], [46.0, 210.30445330325065], [47.0, 209.15126550056266], [48.0, 208.17703488960888], [49.0, 207.3538107868752], [50.0, 206.65805566414346], [51.0, 206.06993614259974], [52.0, 205.57273083108163], [53.0, 205.15233513247355], [54.0, 204.79684660961533], [55.0, 204.49621737747407], [56.0, 204.2419623697188], [57.0, 204.0269142374466], [58.0, 203.84501724716455], [59.0, 203.69115377028666], [60.0, 203.56099822075853], [61.0, 203.45089389256955], [62.0, 203.357749132087], [63.0, 203.2789497258728], [64.0, 203.21228496387863], [65.0, 203.15588520477763], [66.0, 203.1081691485475], [67.0, 203.06779928924357], [68.0, 203.03364427207927], [69.0, 203.00474707938088], [70.0, 202.98029813669257], [71.0, 202.95961257636867], [72.0, 202.94211101492436], [73.0, 202.92730328813778], [74.0, 202.9147747145597], [75.0, 202.9041744601736], [76.0, 202.89520570503856], [77.0, 202.8876173252469], [78.0, 202.88119685549918], [79.0, 202.8757645359925], [80.0, 202.8711682779009], [81.0, 202.86727940301662], [82.0, 202.86398903753036], [83.0, 202.86120506728454], [84.0, 202.8588495552009], [85.0, 202.85685655940398], [86.0, 202.85517028728137], [87.0, 202.85374353336306], [88.0, 202.85253635690785], [89.0, 202.85151496475248], [90.0, 202.85065076452832], [91.0, 202.84991956425662], [92.0, 202.84930089517184], [93.0, 202.84877743877618], [94.0, 202.8483345417737], [95.0, 202.84795980614174], [96.0, 202.84764274190576], [97.0, 202.8473744734775], [98.0, 202.84714749121233], [99.0, 202.8469554412308]]}, \"id\": \"el130140475673587048\", \"plugins\": [{\"type\": \"reset\"}, {\"type\": \"zoom\", \"button\": true, \"enabled\": false}, {\"type\": \"boxzoom\", \"button\": true, \"enabled\": false}]});\n",
              "      });\n",
              "    });\n",
              "}else{\n",
              "    // require.js not available: dynamically load d3 & mpld3\n",
              "    mpld3_load_lib(\"https://d3js.org/d3.v5.js\", function(){\n",
              "         mpld3_load_lib(\"https://mpld3.github.io/js/mpld3.v0.5.1.js\", function(){\n",
              "                 \n",
              "                 mpld3.draw_figure(\"fig_el1301404756735870485475248388\", {\"width\": 432.0, \"height\": 288.0, \"axes\": [{\"bbox\": [0.125, 0.125, 0.775, 0.755], \"xlim\": [-4.95, 103.95], \"ylim\": [163.03930321329233, 1038.8076522279384], \"xdomain\": [-4.95, 103.95], \"ydomain\": [163.03930321329233, 1038.8076522279384], \"xscale\": \"linear\", \"yscale\": \"linear\", \"axes\": [{\"position\": \"bottom\", \"nticks\": 8, \"tickvalues\": null, \"tickformat_formatter\": \"\", \"tickformat\": null, \"scale\": \"linear\", \"fontsize\": 10.0, \"grid\": {\"gridOn\": false}, \"visible\": true}, {\"position\": \"left\", \"nticks\": 11, \"tickvalues\": null, \"tickformat_formatter\": \"\", \"tickformat\": null, \"scale\": \"linear\", \"fontsize\": 10.0, \"grid\": {\"gridOn\": false}, \"visible\": true}], \"axesbg\": \"#FFFFFF\", \"axesbgalpha\": null, \"zoomable\": true, \"id\": \"el130140475676146320\", \"lines\": [{\"data\": \"data01\", \"xindex\": 0, \"yindex\": 1, \"coordinates\": \"data\", \"id\": \"el130140475669063216\", \"color\": \"#1F77B4\", \"linewidth\": 1.5, \"dasharray\": \"none\", \"alpha\": 1, \"zorder\": 2, \"drawstyle\": \"default\"}], \"paths\": [], \"markers\": [], \"texts\": [], \"collections\": [], \"images\": [], \"sharex\": [], \"sharey\": []}], \"data\": {\"data01\": [[0.0, 999.0], [1.0, 998.351669226864], [2.0, 997.4942781204479], [3.0, 996.361242960265], [4.0, 994.8653937900141], [5.0, 992.8930703744893], [6.0, 990.296868695871], [7.0, 986.8869909961877], [8.0, 982.4213874258096], [9.0, 976.5953168853558], [10.0, 969.0317041494884], [11.0, 959.2748297908672], [12.0, 946.7914897179418], [13.0, 930.9856160656902], [14.0, 911.2338182159696], [15.0, 886.9490268446019], [16.0, 857.6753434623589], [17.0, 823.2073596999861], [18.0, 783.7118787538692], [19.0, 739.8144010035719], [20.0, 692.6077104287992], [21.0, 643.5560978478795], [22.0, 594.305765786298], [23.0, 546.452194992469], [24.0, 501.33352760151894], [25.0, 459.9036121600762], [26.0, 422.7010877336365], [27.0, 389.8958297095894], [28.0, 361.3772927151011], [29.0, 336.8515090918306], [30.0, 315.9254409699462], [31.0, 298.16994607718976], [32.0, 283.16123956913987], [33.0, 270.5048648568098], [34.0, 259.84721056648436], [35.0, 250.8790133153727], [36.0, 243.33419444222955], [37.0, 236.98629363107554], [38.0, 231.64391381357913], [39.0, 227.14599454473313], [40.0, 223.35734518367792], [41.0, 220.16463385810113], [42.0, 217.47289382708846], [43.0, 215.20253815259332], [44.0, 213.28683879059832], [45.0, 211.6698121051793], [46.0, 210.30445330325065], [47.0, 209.15126550056266], [48.0, 208.17703488960888], [49.0, 207.3538107868752], [50.0, 206.65805566414346], [51.0, 206.06993614259974], [52.0, 205.57273083108163], [53.0, 205.15233513247355], [54.0, 204.79684660961533], [55.0, 204.49621737747407], [56.0, 204.2419623697188], [57.0, 204.0269142374466], [58.0, 203.84501724716455], [59.0, 203.69115377028666], [60.0, 203.56099822075853], [61.0, 203.45089389256955], [62.0, 203.357749132087], [63.0, 203.2789497258728], [64.0, 203.21228496387863], [65.0, 203.15588520477763], [66.0, 203.1081691485475], [67.0, 203.06779928924357], [68.0, 203.03364427207927], [69.0, 203.00474707938088], [70.0, 202.98029813669257], [71.0, 202.95961257636867], [72.0, 202.94211101492436], [73.0, 202.92730328813778], [74.0, 202.9147747145597], [75.0, 202.9041744601736], [76.0, 202.89520570503856], [77.0, 202.8876173252469], [78.0, 202.88119685549918], [79.0, 202.8757645359925], [80.0, 202.8711682779009], [81.0, 202.86727940301662], [82.0, 202.86398903753036], [83.0, 202.86120506728454], [84.0, 202.8588495552009], [85.0, 202.85685655940398], [86.0, 202.85517028728137], [87.0, 202.85374353336306], [88.0, 202.85253635690785], [89.0, 202.85151496475248], [90.0, 202.85065076452832], [91.0, 202.84991956425662], [92.0, 202.84930089517184], [93.0, 202.84877743877618], [94.0, 202.8483345417737], [95.0, 202.84795980614174], [96.0, 202.84764274190576], [97.0, 202.8473744734775], [98.0, 202.84714749121233], [99.0, 202.8469554412308]]}, \"id\": \"el130140475673587048\", \"plugins\": [{\"type\": \"reset\"}, {\"type\": \"zoom\", \"button\": true, \"enabled\": false}, {\"type\": \"boxzoom\", \"button\": true, \"enabled\": false}]});\n",
              "            })\n",
              "         });\n",
              "}\n",
              "</script>"
            ],
            "text/plain": [
              "<Figure size 432x288 with 1 Axes>"
            ]
          },
          "metadata": {
            "tags": [],
            "needs_background": "light"
          }
        }
      ]
    },
    {
      "cell_type": "code",
      "metadata": {
        "id": "kslRPscynQNA",
        "colab_type": "code",
        "colab": {}
      },
      "source": [
        "train = data[0:70]\n",
        "test = data[70:]"
      ],
      "execution_count": 20,
      "outputs": []
    },
    {
      "cell_type": "code",
      "metadata": {
        "id": "_GyskCZo5ILD",
        "colab_type": "code",
        "colab": {
          "base_uri": "https://localhost:8080/",
          "height": 1000
        },
        "outputId": "3bcc7cf5-ebb0-4197-d355-991f2f49513a"
      },
      "source": [
        "train"
      ],
      "execution_count": 21,
      "outputs": [
        {
          "output_type": "execute_result",
          "data": {
            "text/plain": [
              "array([[999.        ],\n",
              "       [998.35166923],\n",
              "       [997.49427812],\n",
              "       [996.36124296],\n",
              "       [994.86539379],\n",
              "       [992.89307037],\n",
              "       [990.2968687 ],\n",
              "       [986.886991  ],\n",
              "       [982.42138743],\n",
              "       [976.59531689],\n",
              "       [969.03170415],\n",
              "       [959.27482979],\n",
              "       [946.79148972],\n",
              "       [930.98561607],\n",
              "       [911.23381822],\n",
              "       [886.94902684],\n",
              "       [857.67534346],\n",
              "       [823.2073597 ],\n",
              "       [783.71187875],\n",
              "       [739.814401  ],\n",
              "       [692.60771043],\n",
              "       [643.55609785],\n",
              "       [594.30576579],\n",
              "       [546.45219499],\n",
              "       [501.3335276 ],\n",
              "       [459.90361216],\n",
              "       [422.70108773],\n",
              "       [389.89582971],\n",
              "       [361.37729272],\n",
              "       [336.85150909],\n",
              "       [315.92544097],\n",
              "       [298.16994608],\n",
              "       [283.16123957],\n",
              "       [270.50486486],\n",
              "       [259.84721057],\n",
              "       [250.87901332],\n",
              "       [243.33419444],\n",
              "       [236.98629363],\n",
              "       [231.64391381],\n",
              "       [227.14599454],\n",
              "       [223.35734518],\n",
              "       [220.16463386],\n",
              "       [217.47289383],\n",
              "       [215.20253815],\n",
              "       [213.28683879],\n",
              "       [211.66981211],\n",
              "       [210.3044533 ],\n",
              "       [209.1512655 ],\n",
              "       [208.17703489],\n",
              "       [207.35381079],\n",
              "       [206.65805566],\n",
              "       [206.06993614],\n",
              "       [205.57273083],\n",
              "       [205.15233513],\n",
              "       [204.79684661],\n",
              "       [204.49621738],\n",
              "       [204.24196237],\n",
              "       [204.02691424],\n",
              "       [203.84501725],\n",
              "       [203.69115377],\n",
              "       [203.56099822],\n",
              "       [203.45089389],\n",
              "       [203.35774913],\n",
              "       [203.27894973],\n",
              "       [203.21228496],\n",
              "       [203.1558852 ],\n",
              "       [203.10816915],\n",
              "       [203.06779929],\n",
              "       [203.03364427],\n",
              "       [203.00474708]])"
            ]
          },
          "metadata": {
            "tags": []
          },
          "execution_count": 21
        }
      ]
    },
    {
      "cell_type": "code",
      "metadata": {
        "id": "oTWce3nznQNG",
        "colab_type": "code",
        "colab": {}
      },
      "source": [
        "from sklearn.preprocessing import MinMaxScaler"
      ],
      "execution_count": 22,
      "outputs": []
    },
    {
      "cell_type": "code",
      "metadata": {
        "id": "nhMCBLgynQNJ",
        "colab_type": "code",
        "colab": {}
      },
      "source": [
        "scaler = MinMaxScaler()"
      ],
      "execution_count": 23,
      "outputs": []
    },
    {
      "cell_type": "code",
      "metadata": {
        "id": "gihyHQXUnQNP",
        "colab_type": "code",
        "colab": {
          "base_uri": "https://localhost:8080/",
          "height": 34
        },
        "outputId": "24478954-99f3-4de8-b052-dcca6469fb08"
      },
      "source": [
        "# IGNORE WARNING ITS JUST CONVERTING TO FLOATS\n",
        "# WE ONLY FIT TO TRAININ DATA, OTHERWISE WE ARE CHEATING ASSUMING INFO ABOUT TEST SET\n",
        "scaler.fit(train)"
      ],
      "execution_count": 24,
      "outputs": [
        {
          "output_type": "execute_result",
          "data": {
            "text/plain": [
              "MinMaxScaler(copy=True, feature_range=(0, 1))"
            ]
          },
          "metadata": {
            "tags": []
          },
          "execution_count": 24
        }
      ]
    },
    {
      "cell_type": "code",
      "metadata": {
        "id": "c1kXaUv5nQNS",
        "colab_type": "code",
        "colab": {}
      },
      "source": [
        "scaled_train = scaler.transform(train)\n",
        "scaled_test = scaler.transform(test)"
      ],
      "execution_count": 25,
      "outputs": []
    },
    {
      "cell_type": "markdown",
      "metadata": {
        "id": "yn-zm3E0nQNU",
        "colab_type": "text"
      },
      "source": [
        "# Time Series Generator\n",
        "\n",
        "This class takes in a sequence of data-points gathered at\n",
        "equal intervals, along with time series parameters such as\n",
        "stride, length of history, etc., to produce batches for\n",
        "training/validation.\n",
        "\n",
        "#### Arguments\n",
        "    data: Indexable generator (such as list or Numpy array)\n",
        "        containing consecutive data points (timesteps).\n",
        "        The data should be at 2D, and axis 0 is expected\n",
        "        to be the time dimension.\n",
        "    targets: Targets corresponding to timesteps in `data`.\n",
        "        It should have same length as `data`.\n",
        "    length: Length of the output sequences (in number of timesteps).\n",
        "    sampling_rate: Period between successive individual timesteps\n",
        "        within sequences. For rate `r`, timesteps\n",
        "        `data[i]`, `data[i-r]`, ... `data[i - length]`\n",
        "        are used for create a sample sequence.\n",
        "    stride: Period between successive output sequences.\n",
        "        For stride `s`, consecutive output samples would\n",
        "        be centered around `data[i]`, `data[i+s]`, `data[i+2*s]`, etc.\n",
        "    start_index: Data points earlier than `start_index` will not be used\n",
        "        in the output sequences. This is useful to reserve part of the\n",
        "        data for test or validation.\n",
        "    end_index: Data points later than `end_index` will not be used\n",
        "        in the output sequences. This is useful to reserve part of the\n",
        "        data for test or validation.\n",
        "    shuffle: Whether to shuffle output samples,\n",
        "        or instead draw them in chronological order.\n",
        "    reverse: Boolean: if `true`, timesteps in each output sample will be\n",
        "        in reverse chronological order.\n",
        "    batch_size: Number of timeseries samples in each batch\n",
        "        (except maybe the last one)."
      ]
    },
    {
      "cell_type": "code",
      "metadata": {
        "id": "r0F9spkOnQNU",
        "colab_type": "code",
        "colab": {
          "base_uri": "https://localhost:8080/",
          "height": 34
        },
        "outputId": "b094f890-cb25-440b-e3c0-6762f1f31f12"
      },
      "source": [
        "from keras.preprocessing.sequence import TimeseriesGenerator"
      ],
      "execution_count": 26,
      "outputs": [
        {
          "output_type": "stream",
          "text": [
            "Using TensorFlow backend.\n"
          ],
          "name": "stderr"
        }
      ]
    },
    {
      "cell_type": "code",
      "metadata": {
        "id": "32gAGgJXnQNW",
        "colab_type": "code",
        "colab": {
          "base_uri": "https://localhost:8080/",
          "height": 1000
        },
        "outputId": "4b9a7dc2-cf7a-497d-cbf3-e660fb6f81ad"
      },
      "source": [
        "scaled_train"
      ],
      "execution_count": 27,
      "outputs": [
        {
          "output_type": "execute_result",
          "data": {
            "text/plain": [
              "array([[1.00000000e+00],\n",
              "       [9.99185509e-01],\n",
              "       [9.98108378e-01],\n",
              "       [9.96684959e-01],\n",
              "       [9.94805740e-01],\n",
              "       [9.92327932e-01],\n",
              "       [9.89066353e-01],\n",
              "       [9.84782561e-01],\n",
              "       [9.79172473e-01],\n",
              "       [9.71853245e-01],\n",
              "       [9.62351163e-01],\n",
              "       [9.50093710e-01],\n",
              "       [9.34411028e-01],\n",
              "       [9.14554284e-01],\n",
              "       [8.89740320e-01],\n",
              "       [8.59231606e-01],\n",
              "       [8.22455403e-01],\n",
              "       [7.79153657e-01],\n",
              "       [7.29535923e-01],\n",
              "       [6.74388009e-01],\n",
              "       [6.15082768e-01],\n",
              "       [5.53459771e-01],\n",
              "       [4.91587126e-01],\n",
              "       [4.31469216e-01],\n",
              "       [3.74787135e-01],\n",
              "       [3.22739192e-01],\n",
              "       [2.76002074e-01],\n",
              "       [2.34789192e-01],\n",
              "       [1.98961671e-01],\n",
              "       [1.68150201e-01],\n",
              "       [1.41861014e-01],\n",
              "       [1.19554983e-01],\n",
              "       [1.00699712e-01],\n",
              "       [8.47996487e-02],\n",
              "       [7.14105559e-02],\n",
              "       [6.01439092e-02],\n",
              "       [5.06654370e-02],\n",
              "       [4.26906397e-02],\n",
              "       [3.59790672e-02],\n",
              "       [3.03283812e-02],\n",
              "       [2.55687431e-02],\n",
              "       [2.15577753e-02],\n",
              "       [1.81761722e-02],\n",
              "       [1.53239495e-02],\n",
              "       [1.29172777e-02],\n",
              "       [1.08858250e-02],\n",
              "       [9.17053990e-03],\n",
              "       [7.72180286e-03],\n",
              "       [6.49788776e-03],\n",
              "       [5.46368046e-03],\n",
              "       [4.58961102e-03],\n",
              "       [3.85076299e-03],\n",
              "       [3.22612948e-03],\n",
              "       [2.69799103e-03],\n",
              "       [2.25139475e-03],\n",
              "       [1.87371758e-03],\n",
              "       [1.55429984e-03],\n",
              "       [1.28413725e-03],\n",
              "       [1.05562208e-03],\n",
              "       [8.62325106e-04],\n",
              "       [6.98812134e-04],\n",
              "       [5.60489289e-04],\n",
              "       [4.43472560e-04],\n",
              "       [3.44477741e-04],\n",
              "       [2.60727540e-04],\n",
              "       [1.89873149e-04],\n",
              "       [1.29927997e-04],\n",
              "       [7.92117913e-05],\n",
              "       [3.63032224e-05],\n",
              "       [0.00000000e+00]])"
            ]
          },
          "metadata": {
            "tags": []
          },
          "execution_count": 27
        }
      ]
    },
    {
      "cell_type": "code",
      "metadata": {
        "id": "ncMORyX7nQNj",
        "colab_type": "code",
        "colab": {}
      },
      "source": [
        "# Let's redefine to get 12 months back and then predict the next month out\n",
        "n_input = 12\n",
        "n_features = 1\n",
        "generator = TimeseriesGenerator(scaled_train, scaled_train, length=n_input, batch_size=1)"
      ],
      "execution_count": 32,
      "outputs": []
    },
    {
      "cell_type": "code",
      "metadata": {
        "id": "niR2vbUfnQNm",
        "colab_type": "code",
        "colab": {}
      },
      "source": [
        "# What does the first batch look like?\n",
        "X,y = generator[0]"
      ],
      "execution_count": 33,
      "outputs": []
    },
    {
      "cell_type": "code",
      "metadata": {
        "id": "-KbSAqnknQNq",
        "colab_type": "code",
        "colab": {}
      },
      "source": [
        "from keras.models import Sequential\n",
        "from keras.layers import Dense\n",
        "from keras.layers import LSTM"
      ],
      "execution_count": 34,
      "outputs": []
    },
    {
      "cell_type": "code",
      "metadata": {
        "id": "ijaROpXunQNr",
        "colab_type": "code",
        "colab": {}
      },
      "source": [
        "# define model\n",
        "model = Sequential()\n",
        "model.add(LSTM(100, activation='relu', input_shape=(n_input, n_features)))\n",
        "model.add(Dense(1))\n",
        "model.compile(optimizer='adam', loss='mse')"
      ],
      "execution_count": 35,
      "outputs": []
    },
    {
      "cell_type": "code",
      "metadata": {
        "id": "hibDs0p-nQNt",
        "colab_type": "code",
        "colab": {
          "base_uri": "https://localhost:8080/",
          "height": 218
        },
        "outputId": "2cb7ce22-8629-4987-90cf-a65e641b1f99"
      },
      "source": [
        "model.summary()"
      ],
      "execution_count": 36,
      "outputs": [
        {
          "output_type": "stream",
          "text": [
            "Model: \"sequential_2\"\n",
            "_________________________________________________________________\n",
            "Layer (type)                 Output Shape              Param #   \n",
            "=================================================================\n",
            "lstm_1 (LSTM)                (None, 100)               40800     \n",
            "_________________________________________________________________\n",
            "dense_1 (Dense)              (None, 1)                 101       \n",
            "=================================================================\n",
            "Total params: 40,901\n",
            "Trainable params: 40,901\n",
            "Non-trainable params: 0\n",
            "_________________________________________________________________\n"
          ],
          "name": "stdout"
        }
      ]
    },
    {
      "cell_type": "code",
      "metadata": {
        "id": "pll8frFlnQNv",
        "colab_type": "code",
        "colab": {
          "base_uri": "https://localhost:8080/",
          "height": 1000
        },
        "outputId": "47ec9f64-247c-4f08-9e68-40ad25245afc"
      },
      "source": [
        "# fit model\n",
        "model.fit_generator(generator,epochs=50)"
      ],
      "execution_count": 37,
      "outputs": [
        {
          "output_type": "stream",
          "text": [
            "Epoch 1/50\n",
            "58/58 [==============================] - 1s 14ms/step - loss: 0.0394\n",
            "Epoch 2/50\n",
            "58/58 [==============================] - 0s 5ms/step - loss: 0.0050\n",
            "Epoch 3/50\n",
            "58/58 [==============================] - 0s 5ms/step - loss: 0.0038\n",
            "Epoch 4/50\n",
            "58/58 [==============================] - 0s 5ms/step - loss: 0.0047\n",
            "Epoch 5/50\n",
            "58/58 [==============================] - 0s 5ms/step - loss: 0.0131\n",
            "Epoch 6/50\n",
            "58/58 [==============================] - 0s 5ms/step - loss: 0.0031\n",
            "Epoch 7/50\n",
            "58/58 [==============================] - 0s 5ms/step - loss: 0.0035\n",
            "Epoch 8/50\n",
            "58/58 [==============================] - 0s 5ms/step - loss: 0.0029\n",
            "Epoch 9/50\n",
            "58/58 [==============================] - 0s 5ms/step - loss: 0.0018\n",
            "Epoch 10/50\n",
            "58/58 [==============================] - 0s 5ms/step - loss: 0.0021\n",
            "Epoch 11/50\n",
            "58/58 [==============================] - 0s 5ms/step - loss: 0.0033\n",
            "Epoch 12/50\n",
            "58/58 [==============================] - 0s 5ms/step - loss: 0.0015\n",
            "Epoch 13/50\n",
            "58/58 [==============================] - 0s 5ms/step - loss: 0.0011\n",
            "Epoch 14/50\n",
            "58/58 [==============================] - 0s 5ms/step - loss: 0.0015\n",
            "Epoch 15/50\n",
            "58/58 [==============================] - 0s 5ms/step - loss: 6.1820e-04\n",
            "Epoch 16/50\n",
            "58/58 [==============================] - 0s 5ms/step - loss: 0.0017\n",
            "Epoch 17/50\n",
            "58/58 [==============================] - 0s 5ms/step - loss: 0.0013\n",
            "Epoch 18/50\n",
            "58/58 [==============================] - 0s 5ms/step - loss: 7.7102e-04\n",
            "Epoch 19/50\n",
            "58/58 [==============================] - 0s 6ms/step - loss: 4.5820e-04\n",
            "Epoch 20/50\n",
            "58/58 [==============================] - 0s 5ms/step - loss: 4.7437e-04\n",
            "Epoch 21/50\n",
            "58/58 [==============================] - 0s 5ms/step - loss: 0.0014\n",
            "Epoch 22/50\n",
            "58/58 [==============================] - 0s 5ms/step - loss: 0.0031\n",
            "Epoch 23/50\n",
            "58/58 [==============================] - 0s 5ms/step - loss: 0.0014\n",
            "Epoch 24/50\n",
            "58/58 [==============================] - 0s 5ms/step - loss: 4.4495e-04\n",
            "Epoch 25/50\n",
            "58/58 [==============================] - 0s 5ms/step - loss: 0.0023\n",
            "Epoch 26/50\n",
            "58/58 [==============================] - 0s 5ms/step - loss: 5.9514e-04\n",
            "Epoch 27/50\n",
            "58/58 [==============================] - 0s 5ms/step - loss: 0.0012\n",
            "Epoch 28/50\n",
            "58/58 [==============================] - 0s 5ms/step - loss: 2.6651e-04\n",
            "Epoch 29/50\n",
            "58/58 [==============================] - 0s 5ms/step - loss: 0.0010\n",
            "Epoch 30/50\n",
            "58/58 [==============================] - 0s 5ms/step - loss: 2.6937e-04\n",
            "Epoch 31/50\n",
            "58/58 [==============================] - 0s 5ms/step - loss: 8.7836e-04\n",
            "Epoch 32/50\n",
            "58/58 [==============================] - 0s 5ms/step - loss: 8.6492e-04\n",
            "Epoch 33/50\n",
            "58/58 [==============================] - 0s 5ms/step - loss: 8.0700e-04\n",
            "Epoch 34/50\n",
            "58/58 [==============================] - 0s 5ms/step - loss: 6.6158e-04\n",
            "Epoch 35/50\n",
            "58/58 [==============================] - 0s 5ms/step - loss: 3.8050e-04\n",
            "Epoch 36/50\n",
            "58/58 [==============================] - 0s 5ms/step - loss: 7.0600e-04\n",
            "Epoch 37/50\n",
            "58/58 [==============================] - 0s 5ms/step - loss: 2.1130e-04\n",
            "Epoch 38/50\n",
            "58/58 [==============================] - 0s 5ms/step - loss: 1.1002e-04\n",
            "Epoch 39/50\n",
            "58/58 [==============================] - 0s 5ms/step - loss: 1.0945e-04\n",
            "Epoch 40/50\n",
            "58/58 [==============================] - 0s 5ms/step - loss: 2.8625e-04\n",
            "Epoch 41/50\n",
            "58/58 [==============================] - 0s 5ms/step - loss: 6.9948e-04\n",
            "Epoch 42/50\n",
            "58/58 [==============================] - 0s 5ms/step - loss: 2.0825e-04\n",
            "Epoch 43/50\n",
            "58/58 [==============================] - 0s 5ms/step - loss: 2.0127e-04\n",
            "Epoch 44/50\n",
            "58/58 [==============================] - 0s 5ms/step - loss: 1.4598e-04\n",
            "Epoch 45/50\n",
            "58/58 [==============================] - 0s 5ms/step - loss: 3.1330e-04\n",
            "Epoch 46/50\n",
            "58/58 [==============================] - 0s 5ms/step - loss: 9.1503e-05\n",
            "Epoch 47/50\n",
            "58/58 [==============================] - 0s 5ms/step - loss: 1.1960e-04\n",
            "Epoch 48/50\n",
            "58/58 [==============================] - 0s 5ms/step - loss: 2.6763e-04\n",
            "Epoch 49/50\n",
            "58/58 [==============================] - 0s 5ms/step - loss: 1.5110e-04\n",
            "Epoch 50/50\n",
            "58/58 [==============================] - 0s 5ms/step - loss: 6.1563e-04\n"
          ],
          "name": "stdout"
        },
        {
          "output_type": "execute_result",
          "data": {
            "text/plain": [
              "<keras.callbacks.callbacks.History at 0x7fc2c8c1b630>"
            ]
          },
          "metadata": {
            "tags": []
          },
          "execution_count": 37
        }
      ]
    },
    {
      "cell_type": "code",
      "metadata": {
        "id": "JWWlJRSanQNx",
        "colab_type": "code",
        "colab": {
          "base_uri": "https://localhost:8080/",
          "height": 34
        },
        "outputId": "b91f645f-c43e-49c0-d8de-7b66436466b5"
      },
      "source": [
        "model.history.history.keys()"
      ],
      "execution_count": 38,
      "outputs": [
        {
          "output_type": "execute_result",
          "data": {
            "text/plain": [
              "dict_keys(['loss'])"
            ]
          },
          "metadata": {
            "tags": []
          },
          "execution_count": 38
        }
      ]
    },
    {
      "cell_type": "code",
      "metadata": {
        "id": "yvb8TrH4nQN0",
        "colab_type": "code",
        "colab": {
          "base_uri": "https://localhost:8080/",
          "height": 326
        },
        "outputId": "b59d7caa-beb2-45e5-8e6e-f7ebea219e66"
      },
      "source": [
        "loss_per_epoch = model.history.history['loss']\n",
        "plt.plot(range(len(loss_per_epoch)),loss_per_epoch)"
      ],
      "execution_count": 39,
      "outputs": [
        {
          "output_type": "execute_result",
          "data": {
            "text/plain": [
              "[<matplotlib.lines.Line2D at 0x7fc2bd3a4550>]"
            ]
          },
          "metadata": {
            "tags": []
          },
          "execution_count": 39
        },
        {
          "output_type": "display_data",
          "data": {
            "image/png": "[encoded data removed]",
            "text/html": [
              "\n",
              "\n",
              "<style>\n",
              "\n",
              "</style>\n",
              "\n",
              "<div id=\"fig_el1301404744178479921544582575\"></div>\n",
              "<script>\n",
              "function mpld3_load_lib(url, callback){\n",
              "  var s = document.createElement('script');\n",
              "  s.src = url;\n",
              "  s.async = true;\n",
              "  s.onreadystatechange = s.onload = callback;\n",
              "  s.onerror = function(){console.warn(\"failed to load library \" + url);};\n",
              "  document.getElementsByTagName(\"head\")[0].appendChild(s);\n",
              "}\n",
              "\n",
              "if(typeof(mpld3) !== \"undefined\" && mpld3._mpld3IsLoaded){\n",
              "   // already loaded: just create the figure\n",
              "   !function(mpld3){\n",
              "       \n",
              "       mpld3.draw_figure(\"fig_el1301404744178479921544582575\", {\"width\": 432.0, \"height\": 288.0, \"axes\": [{\"bbox\": [0.125, 0.125, 0.775, 0.755], \"xlim\": [-2.45, 51.45], \"ylim\": [-0.0018742705559215641, 0.0413727435106961], \"xdomain\": [-2.45, 51.45], \"ydomain\": [-0.0018742705559215641, 0.0413727435106961], \"xscale\": \"linear\", \"yscale\": \"linear\", \"axes\": [{\"position\": \"bottom\", \"nticks\": 8, \"tickvalues\": null, \"tickformat_formatter\": \"\", \"tickformat\": null, \"scale\": \"linear\", \"fontsize\": 10.0, \"grid\": {\"gridOn\": false}, \"visible\": true}, {\"position\": \"left\", \"nticks\": 11, \"tickvalues\": null, \"tickformat_formatter\": \"\", \"tickformat\": null, \"scale\": \"linear\", \"fontsize\": 10.0, \"grid\": {\"gridOn\": false}, \"visible\": true}], \"axesbg\": \"#FFFFFF\", \"axesbgalpha\": null, \"zoomable\": true, \"id\": \"el130140475623155864\", \"lines\": [{\"data\": \"data01\", \"xindex\": 0, \"yindex\": 1, \"coordinates\": \"data\", \"id\": \"el130140474375095632\", \"color\": \"#1F77B4\", \"linewidth\": 1.5, \"dasharray\": \"none\", \"alpha\": 1, \"zorder\": 2, \"drawstyle\": \"default\"}], \"paths\": [], \"markers\": [], \"texts\": [], \"collections\": [], \"images\": [], \"sharex\": [], \"sharey\": []}], \"data\": {\"data01\": [[0.0, 0.03940697014403166], [1.0, 0.005012048334531849], [2.0, 0.0038250010816178585], [3.0, 0.004665044066133964], [4.0, 0.013079181804127194], [5.0, 0.003125802127752532], [6.0, 0.0035156237851964598], [7.0, 0.002913895610031368], [8.0, 0.0018186589305145713], [9.0, 0.0020799539683339476], [10.0, 0.003278450457855307], [11.0, 0.0015286545513401985], [12.0, 0.0010574193370785107], [13.0, 0.0015107697885462091], [14.0, 0.0006181950646356623], [15.0, 0.0016852588037272053], [16.0, 0.0012656772857615232], [17.0, 0.0007710156864421152], [18.0, 0.0004581959084768515], [19.0, 0.00047436864309334764], [20.0, 0.0014307066150092752], [21.0, 0.0031062747469400337], [22.0, 0.0014130424039204912], [23.0, 0.00044494855211864065], [24.0, 0.0022918647779537338], [25.0, 0.0005951433187629424], [26.0, 0.0011950326266628424], [27.0, 0.00026651019463020607], [28.0, 0.0010294107030301214], [29.0, 0.00026936843300199795], [30.0, 0.0008783554693324399], [31.0, 0.0008649213504613259], [32.0, 0.0008069969178389853], [33.0, 0.0006615826961561458], [34.0, 0.0003804991452118537], [35.0, 0.0007060045542748765], [36.0, 0.00021130275134615483], [37.0, 0.00011001765866685103], [38.0, 0.00010945040859908552], [39.0, 0.0002862477538105791], [40.0, 0.0006994803860442057], [41.0, 0.0002082532526459513], [42.0, 0.00020127173354222408], [43.0, 0.0001459759367978819], [44.0, 0.00031330469279734524], [45.0, 9.150281074287514e-05], [46.0, 0.00011959670400960883], [47.0, 0.00026763242093304934], [48.0, 0.0001510982998242276], [49.0, 0.0006156331407288658]]}, \"id\": \"el130140474417847992\", \"plugins\": [{\"type\": \"reset\"}, {\"type\": \"zoom\", \"button\": true, \"enabled\": false}, {\"type\": \"boxzoom\", \"button\": true, \"enabled\": false}]});\n",
              "   }(mpld3);\n",
              "}else if(typeof define === \"function\" && define.amd){\n",
              "   // require.js is available: use it to load d3/mpld3\n",
              "   require.config({paths: {d3: \"https://d3js.org/d3.v5\"}});\n",
              "   require([\"d3\"], function(d3){\n",
              "      window.d3 = d3;\n",
              "      mpld3_load_lib(\"https://mpld3.github.io/js/mpld3.v0.5.1.js\", function(){\n",
              "         \n",
              "         mpld3.draw_figure(\"fig_el1301404744178479921544582575\", {\"width\": 432.0, \"height\": 288.0, \"axes\": [{\"bbox\": [0.125, 0.125, 0.775, 0.755], \"xlim\": [-2.45, 51.45], \"ylim\": [-0.0018742705559215641, 0.0413727435106961], \"xdomain\": [-2.45, 51.45], \"ydomain\": [-0.0018742705559215641, 0.0413727435106961], \"xscale\": \"linear\", \"yscale\": \"linear\", \"axes\": [{\"position\": \"bottom\", \"nticks\": 8, \"tickvalues\": null, \"tickformat_formatter\": \"\", \"tickformat\": null, \"scale\": \"linear\", \"fontsize\": 10.0, \"grid\": {\"gridOn\": false}, \"visible\": true}, {\"position\": \"left\", \"nticks\": 11, \"tickvalues\": null, \"tickformat_formatter\": \"\", \"tickformat\": null, \"scale\": \"linear\", \"fontsize\": 10.0, \"grid\": {\"gridOn\": false}, \"visible\": true}], \"axesbg\": \"#FFFFFF\", \"axesbgalpha\": null, \"zoomable\": true, \"id\": \"el130140475623155864\", \"lines\": [{\"data\": \"data01\", \"xindex\": 0, \"yindex\": 1, \"coordinates\": \"data\", \"id\": \"el130140474375095632\", \"color\": \"#1F77B4\", \"linewidth\": 1.5, \"dasharray\": \"none\", \"alpha\": 1, \"zorder\": 2, \"drawstyle\": \"default\"}], \"paths\": [], \"markers\": [], \"texts\": [], \"collections\": [], \"images\": [], \"sharex\": [], \"sharey\": []}], \"data\": {\"data01\": [[0.0, 0.03940697014403166], [1.0, 0.005012048334531849], [2.0, 0.0038250010816178585], [3.0, 0.004665044066133964], [4.0, 0.013079181804127194], [5.0, 0.003125802127752532], [6.0, 0.0035156237851964598], [7.0, 0.002913895610031368], [8.0, 0.0018186589305145713], [9.0, 0.0020799539683339476], [10.0, 0.003278450457855307], [11.0, 0.0015286545513401985], [12.0, 0.0010574193370785107], [13.0, 0.0015107697885462091], [14.0, 0.0006181950646356623], [15.0, 0.0016852588037272053], [16.0, 0.0012656772857615232], [17.0, 0.0007710156864421152], [18.0, 0.0004581959084768515], [19.0, 0.00047436864309334764], [20.0, 0.0014307066150092752], [21.0, 0.0031062747469400337], [22.0, 0.0014130424039204912], [23.0, 0.00044494855211864065], [24.0, 0.0022918647779537338], [25.0, 0.0005951433187629424], [26.0, 0.0011950326266628424], [27.0, 0.00026651019463020607], [28.0, 0.0010294107030301214], [29.0, 0.00026936843300199795], [30.0, 0.0008783554693324399], [31.0, 0.0008649213504613259], [32.0, 0.0008069969178389853], [33.0, 0.0006615826961561458], [34.0, 0.0003804991452118537], [35.0, 0.0007060045542748765], [36.0, 0.00021130275134615483], [37.0, 0.00011001765866685103], [38.0, 0.00010945040859908552], [39.0, 0.0002862477538105791], [40.0, 0.0006994803860442057], [41.0, 0.0002082532526459513], [42.0, 0.00020127173354222408], [43.0, 0.0001459759367978819], [44.0, 0.00031330469279734524], [45.0, 9.150281074287514e-05], [46.0, 0.00011959670400960883], [47.0, 0.00026763242093304934], [48.0, 0.0001510982998242276], [49.0, 0.0006156331407288658]]}, \"id\": \"el130140474417847992\", \"plugins\": [{\"type\": \"reset\"}, {\"type\": \"zoom\", \"button\": true, \"enabled\": false}, {\"type\": \"boxzoom\", \"button\": true, \"enabled\": false}]});\n",
              "      });\n",
              "    });\n",
              "}else{\n",
              "    // require.js not available: dynamically load d3 & mpld3\n",
              "    mpld3_load_lib(\"https://d3js.org/d3.v5.js\", function(){\n",
              "         mpld3_load_lib(\"https://mpld3.github.io/js/mpld3.v0.5.1.js\", function(){\n",
              "                 \n",
              "                 mpld3.draw_figure(\"fig_el1301404744178479921544582575\", {\"width\": 432.0, \"height\": 288.0, \"axes\": [{\"bbox\": [0.125, 0.125, 0.775, 0.755], \"xlim\": [-2.45, 51.45], \"ylim\": [-0.0018742705559215641, 0.0413727435106961], \"xdomain\": [-2.45, 51.45], \"ydomain\": [-0.0018742705559215641, 0.0413727435106961], \"xscale\": \"linear\", \"yscale\": \"linear\", \"axes\": [{\"position\": \"bottom\", \"nticks\": 8, \"tickvalues\": null, \"tickformat_formatter\": \"\", \"tickformat\": null, \"scale\": \"linear\", \"fontsize\": 10.0, \"grid\": {\"gridOn\": false}, \"visible\": true}, {\"position\": \"left\", \"nticks\": 11, \"tickvalues\": null, \"tickformat_formatter\": \"\", \"tickformat\": null, \"scale\": \"linear\", \"fontsize\": 10.0, \"grid\": {\"gridOn\": false}, \"visible\": true}], \"axesbg\": \"#FFFFFF\", \"axesbgalpha\": null, \"zoomable\": true, \"id\": \"el130140475623155864\", \"lines\": [{\"data\": \"data01\", \"xindex\": 0, \"yindex\": 1, \"coordinates\": \"data\", \"id\": \"el130140474375095632\", \"color\": \"#1F77B4\", \"linewidth\": 1.5, \"dasharray\": \"none\", \"alpha\": 1, \"zorder\": 2, \"drawstyle\": \"default\"}], \"paths\": [], \"markers\": [], \"texts\": [], \"collections\": [], \"images\": [], \"sharex\": [], \"sharey\": []}], \"data\": {\"data01\": [[0.0, 0.03940697014403166], [1.0, 0.005012048334531849], [2.0, 0.0038250010816178585], [3.0, 0.004665044066133964], [4.0, 0.013079181804127194], [5.0, 0.003125802127752532], [6.0, 0.0035156237851964598], [7.0, 0.002913895610031368], [8.0, 0.0018186589305145713], [9.0, 0.0020799539683339476], [10.0, 0.003278450457855307], [11.0, 0.0015286545513401985], [12.0, 0.0010574193370785107], [13.0, 0.0015107697885462091], [14.0, 0.0006181950646356623], [15.0, 0.0016852588037272053], [16.0, 0.0012656772857615232], [17.0, 0.0007710156864421152], [18.0, 0.0004581959084768515], [19.0, 0.00047436864309334764], [20.0, 0.0014307066150092752], [21.0, 0.0031062747469400337], [22.0, 0.0014130424039204912], [23.0, 0.00044494855211864065], [24.0, 0.0022918647779537338], [25.0, 0.0005951433187629424], [26.0, 0.0011950326266628424], [27.0, 0.00026651019463020607], [28.0, 0.0010294107030301214], [29.0, 0.00026936843300199795], [30.0, 0.0008783554693324399], [31.0, 0.0008649213504613259], [32.0, 0.0008069969178389853], [33.0, 0.0006615826961561458], [34.0, 0.0003804991452118537], [35.0, 0.0007060045542748765], [36.0, 0.00021130275134615483], [37.0, 0.00011001765866685103], [38.0, 0.00010945040859908552], [39.0, 0.0002862477538105791], [40.0, 0.0006994803860442057], [41.0, 0.0002082532526459513], [42.0, 0.00020127173354222408], [43.0, 0.0001459759367978819], [44.0, 0.00031330469279734524], [45.0, 9.150281074287514e-05], [46.0, 0.00011959670400960883], [47.0, 0.00026763242093304934], [48.0, 0.0001510982998242276], [49.0, 0.0006156331407288658]]}, \"id\": \"el130140474417847992\", \"plugins\": [{\"type\": \"reset\"}, {\"type\": \"zoom\", \"button\": true, \"enabled\": false}, {\"type\": \"boxzoom\", \"button\": true, \"enabled\": false}]});\n",
              "            })\n",
              "         });\n",
              "}\n",
              "</script>"
            ],
            "text/plain": [
              "<Figure size 432x288 with 1 Axes>"
            ]
          },
          "metadata": {
            "tags": [],
            "needs_background": "light"
          }
        }
      ]
    },
    {
      "cell_type": "code",
      "metadata": {
        "id": "_6osxI0VnQN3",
        "colab_type": "code",
        "colab": {}
      },
      "source": [
        "first_eval_batch = scaled_train[-12:]"
      ],
      "execution_count": 40,
      "outputs": []
    },
    {
      "cell_type": "code",
      "metadata": {
        "id": "xkGhupg5nQN6",
        "colab_type": "code",
        "colab": {
          "base_uri": "https://localhost:8080/",
          "height": 218
        },
        "outputId": "079e0187-24c5-4b1e-d0d3-c6d82807ace2"
      },
      "source": [
        "first_eval_batch"
      ],
      "execution_count": 41,
      "outputs": [
        {
          "output_type": "execute_result",
          "data": {
            "text/plain": [
              "array([[1.05562208e-03],\n",
              "       [8.62325106e-04],\n",
              "       [6.98812134e-04],\n",
              "       [5.60489289e-04],\n",
              "       [4.43472560e-04],\n",
              "       [3.44477741e-04],\n",
              "       [2.60727540e-04],\n",
              "       [1.89873149e-04],\n",
              "       [1.29927997e-04],\n",
              "       [7.92117913e-05],\n",
              "       [3.63032224e-05],\n",
              "       [0.00000000e+00]])"
            ]
          },
          "metadata": {
            "tags": []
          },
          "execution_count": 41
        }
      ]
    },
    {
      "cell_type": "code",
      "metadata": {
        "id": "QbsEy17xnQN7",
        "colab_type": "code",
        "colab": {}
      },
      "source": [
        "first_eval_batch = first_eval_batch.reshape((1, n_input, n_features))"
      ],
      "execution_count": 42,
      "outputs": []
    },
    {
      "cell_type": "code",
      "metadata": {
        "id": "tsaW1j0snQN9",
        "colab_type": "code",
        "colab": {
          "base_uri": "https://localhost:8080/",
          "height": 34
        },
        "outputId": "3b9b8096-d506-4d81-b2c9-a0d830363afd"
      },
      "source": [
        "\n",
        "model.predict(first_eval_batch)"
      ],
      "execution_count": 43,
      "outputs": [
        {
          "output_type": "execute_result",
          "data": {
            "text/plain": [
              "array([[-0.00368121]], dtype=float32)"
            ]
          },
          "metadata": {
            "tags": []
          },
          "execution_count": 43
        }
      ]
    },
    {
      "cell_type": "code",
      "metadata": {
        "id": "wsiWXh3DnQOA",
        "colab_type": "code",
        "colab": {
          "base_uri": "https://localhost:8080/",
          "height": 34
        },
        "outputId": "4076cab7-b771-4c50-ff82-c42e2b99cf57"
      },
      "source": [
        "scaled_test[0]"
      ],
      "execution_count": 44,
      "outputs": [
        {
          "output_type": "execute_result",
          "data": {
            "text/plain": [
              "array([-3.07149353e-05])"
            ]
          },
          "metadata": {
            "tags": []
          },
          "execution_count": 44
        }
      ]
    },
    {
      "cell_type": "markdown",
      "metadata": {
        "id": "xPynX-6ZnQOC",
        "colab_type": "text"
      },
      "source": [
        "Now let's put this logic in a for loop to predict into the future for the entire test range.\n",
        "\n",
        "----"
      ]
    },
    {
      "cell_type": "code",
      "metadata": {
        "id": "I9J77sJ_nQOC",
        "colab_type": "code",
        "colab": {}
      },
      "source": [
        "test_predictions = []\n",
        "\n",
        "first_eval_batch = scaled_train[-n_input:]\n",
        "current_batch = first_eval_batch.reshape((1, n_input, n_features))"
      ],
      "execution_count": 45,
      "outputs": []
    },
    {
      "cell_type": "code",
      "metadata": {
        "id": "9uAWmROcnQOG",
        "colab_type": "code",
        "colab": {
          "base_uri": "https://localhost:8080/",
          "height": 34
        },
        "outputId": "28f81d30-41a0-4c86-e22d-ce47a7c498a0"
      },
      "source": [
        "current_batch.shape"
      ],
      "execution_count": 46,
      "outputs": [
        {
          "output_type": "execute_result",
          "data": {
            "text/plain": [
              "(1, 12, 1)"
            ]
          },
          "metadata": {
            "tags": []
          },
          "execution_count": 46
        }
      ]
    },
    {
      "cell_type": "code",
      "metadata": {
        "id": "JZDlZd7QnQOI",
        "colab_type": "code",
        "colab": {
          "base_uri": "https://localhost:8080/",
          "height": 218
        },
        "outputId": "d8e9f7af-0d2b-4e10-c38e-245275fe9ca9"
      },
      "source": [
        "current_batch"
      ],
      "execution_count": 47,
      "outputs": [
        {
          "output_type": "execute_result",
          "data": {
            "text/plain": [
              "array([[[1.05562208e-03],\n",
              "        [8.62325106e-04],\n",
              "        [6.98812134e-04],\n",
              "        [5.60489289e-04],\n",
              "        [4.43472560e-04],\n",
              "        [3.44477741e-04],\n",
              "        [2.60727540e-04],\n",
              "        [1.89873149e-04],\n",
              "        [1.29927997e-04],\n",
              "        [7.92117913e-05],\n",
              "        [3.63032224e-05],\n",
              "        [0.00000000e+00]]])"
            ]
          },
          "metadata": {
            "tags": []
          },
          "execution_count": 47
        }
      ]
    },
    {
      "cell_type": "code",
      "metadata": {
        "id": "GQoI2_xenQOL",
        "colab_type": "code",
        "colab": {
          "base_uri": "https://localhost:8080/",
          "height": 218
        },
        "outputId": "dfb443e9-1f40-4123-ea86-e3eb9bbd1fd6"
      },
      "source": [
        "np.append(current_batch[:,1:,:],[[[99]]],axis=1)"
      ],
      "execution_count": 48,
      "outputs": [
        {
          "output_type": "execute_result",
          "data": {
            "text/plain": [
              "array([[[8.62325106e-04],\n",
              "        [6.98812134e-04],\n",
              "        [5.60489289e-04],\n",
              "        [4.43472560e-04],\n",
              "        [3.44477741e-04],\n",
              "        [2.60727540e-04],\n",
              "        [1.89873149e-04],\n",
              "        [1.29927997e-04],\n",
              "        [7.92117913e-05],\n",
              "        [3.63032224e-05],\n",
              "        [0.00000000e+00],\n",
              "        [9.90000000e+01]]])"
            ]
          },
          "metadata": {
            "tags": []
          },
          "execution_count": 48
        }
      ]
    },
    {
      "cell_type": "markdown",
      "metadata": {
        "id": "bFSLwzWQnQON",
        "colab_type": "text"
      },
      "source": [
        "**NOTE: PAY CLOSE ATTENTION HERE TO WHAT IS BEING OUTPUTED AND IN WHAT DIMENSIONS. ADD YOUR OWN PRINT() STATEMENTS TO SEE WHAT IS TRULY GOING ON!!**"
      ]
    },
    {
      "cell_type": "code",
      "metadata": {
        "id": "sLLGkLVZnQOO",
        "colab_type": "code",
        "colab": {}
      },
      "source": [
        "test_predictions = []\n",
        "\n",
        "first_eval_batch = scaled_train[-n_input:]\n",
        "current_batch = first_eval_batch.reshape((1, n_input, n_features))\n",
        "\n",
        "for i in range(len(test)):\n",
        "    \n",
        "    # get prediction 1 time stamp ahead ([0] is for grabbing just the number instead of [array])\n",
        "    current_pred = model.predict(current_batch)[0]\n",
        "    \n",
        "    # store prediction\n",
        "    test_predictions.append(current_pred) \n",
        "    \n",
        "    # update batch to now include prediction and drop first value\n",
        "    current_batch = np.append(current_batch[:,1:,:],[[current_pred]],axis=1)"
      ],
      "execution_count": 49,
      "outputs": []
    },
    {
      "cell_type": "code",
      "metadata": {
        "id": "pzDWIJ6SnQOR",
        "colab_type": "code",
        "colab": {
          "base_uri": "https://localhost:8080/",
          "height": 521
        },
        "outputId": "758ccca2-9f9a-45bb-9385-9ea712802445"
      },
      "source": [
        "test_predictions"
      ],
      "execution_count": 50,
      "outputs": [
        {
          "output_type": "execute_result",
          "data": {
            "text/plain": [
              "[array([-0.00368121], dtype=float32),\n",
              " array([-0.00393001], dtype=float32),\n",
              " array([-0.00413847], dtype=float32),\n",
              " array([-0.00431907], dtype=float32),\n",
              " array([-0.00447642], dtype=float32),\n",
              " array([-0.00461412], dtype=float32),\n",
              " array([-0.00473498], dtype=float32),\n",
              " array([-0.00484129], dtype=float32),\n",
              " array([-0.00493494], dtype=float32),\n",
              " array([-0.00501746], dtype=float32),\n",
              " array([-0.00509024], dtype=float32),\n",
              " array([-0.00515436], dtype=float32),\n",
              " array([-0.00520945], dtype=float32),\n",
              " array([-0.00523787], dtype=float32),\n",
              " array([-0.00526144], dtype=float32),\n",
              " array([-0.00528101], dtype=float32),\n",
              " array([-0.00529725], dtype=float32),\n",
              " array([-0.00531067], dtype=float32),\n",
              " array([-0.00532173], dtype=float32),\n",
              " array([-0.0053308], dtype=float32),\n",
              " array([-0.00533822], dtype=float32),\n",
              " array([-0.00534422], dtype=float32),\n",
              " array([-0.00534904], dtype=float32),\n",
              " array([-0.00535287], dtype=float32),\n",
              " array([-0.00535588], dtype=float32),\n",
              " array([-0.00535821], dtype=float32),\n",
              " array([-0.00536014], dtype=float32),\n",
              " array([-0.00536168], dtype=float32),\n",
              " array([-0.00536293], dtype=float32),\n",
              " array([-0.00536394], dtype=float32)]"
            ]
          },
          "metadata": {
            "tags": []
          },
          "execution_count": 50
        }
      ]
    },
    {
      "cell_type": "code",
      "metadata": {
        "id": "MOAR84FLnQOT",
        "colab_type": "code",
        "colab": {
          "base_uri": "https://localhost:8080/",
          "height": 521
        },
        "outputId": "5f2760c9-022f-42fb-c3e4-a098b42f65c7"
      },
      "source": [
        "scaled_test"
      ],
      "execution_count": 51,
      "outputs": [
        {
          "output_type": "execute_result",
          "data": {
            "text/plain": [
              "array([[-3.07149353e-05],\n",
              "       [-5.67019751e-05],\n",
              "       [-7.86889925e-05],\n",
              "       [-9.72917752e-05],\n",
              "       [-1.13031283e-04],\n",
              "       [-1.26348265e-04],\n",
              "       [-1.37615613e-04],\n",
              "       [-1.47148810e-04],\n",
              "       [-1.55214775e-04],\n",
              "       [-1.62039337e-04],\n",
              "       [-1.67813565e-04],\n",
              "       [-1.72699116e-04],\n",
              "       [-1.76832765e-04],\n",
              "       [-1.80330236e-04],\n",
              "       [-1.83289440e-04],\n",
              "       [-1.85793219e-04],\n",
              "       [-1.87911663e-04],\n",
              "       [-1.89704079e-04],\n",
              "       [-1.91220641e-04],\n",
              "       [-1.92503805e-04],\n",
              "       [-1.93589490e-04],\n",
              "       [-1.94508089e-04],\n",
              "       [-1.95285316e-04],\n",
              "       [-1.95942928e-04],\n",
              "       [-1.96499335e-04],\n",
              "       [-1.96970111e-04],\n",
              "       [-1.97368435e-04],\n",
              "       [-1.97705458e-04],\n",
              "       [-1.97990613e-04],\n",
              "       [-1.98231883e-04]])"
            ]
          },
          "metadata": {
            "tags": []
          },
          "execution_count": 51
        }
      ]
    },
    {
      "cell_type": "markdown",
      "metadata": {
        "id": "2TBIRwgznQOW",
        "colab_type": "text"
      },
      "source": [
        "## Inverse Transformations and Compare"
      ]
    },
    {
      "cell_type": "code",
      "metadata": {
        "id": "_NaGLQc0nQOX",
        "colab_type": "code",
        "colab": {}
      },
      "source": [
        "true_predictions = scaler.inverse_transform(test_predictions)"
      ],
      "execution_count": 52,
      "outputs": []
    },
    {
      "cell_type": "code",
      "metadata": {
        "id": "9REfvvPInQOY",
        "colab_type": "code",
        "colab": {
          "base_uri": "https://localhost:8080/",
          "height": 521
        },
        "outputId": "8de39f1f-9c01-41d1-96be-4e89e3209571"
      },
      "source": [
        "true_predictions"
      ],
      "execution_count": 53,
      "outputs": [
        {
          "output_type": "execute_result",
          "data": {
            "text/plain": [
              "array([[200.07452076],\n",
              "       [199.87647785],\n",
              "       [199.71054633],\n",
              "       [199.5667909 ],\n",
              "       [199.44153606],\n",
              "       [199.3319277 ],\n",
              "       [199.23572849],\n",
              "       [199.15110141],\n",
              "       [199.07655936],\n",
              "       [199.01087174],\n",
              "       [198.95293989],\n",
              "       [198.90190388],\n",
              "       [198.85805135],\n",
              "       [198.83542749],\n",
              "       [198.81666595],\n",
              "       [198.80108916],\n",
              "       [198.78816336],\n",
              "       [198.77747637],\n",
              "       [198.76867384],\n",
              "       [198.76145182],\n",
              "       [198.75554936],\n",
              "       [198.75077372],\n",
              "       [198.74693957],\n",
              "       [198.74389123],\n",
              "       [198.74149229],\n",
              "       [198.73963601],\n",
              "       [198.73810146],\n",
              "       [198.73687382],\n",
              "       [198.73588192],\n",
              "       [198.73507239]])"
            ]
          },
          "metadata": {
            "tags": []
          },
          "execution_count": 53
        }
      ]
    },
    {
      "cell_type": "code",
      "metadata": {
        "id": "M9GY_V7LnQOa",
        "colab_type": "code",
        "colab": {
          "base_uri": "https://localhost:8080/",
          "height": 521
        },
        "outputId": "3ad39145-a3f1-4823-c583-b9f01dd78396"
      },
      "source": [
        "test"
      ],
      "execution_count": 54,
      "outputs": [
        {
          "output_type": "execute_result",
          "data": {
            "text/plain": [
              "array([[202.98029814],\n",
              "       [202.95961258],\n",
              "       [202.94211101],\n",
              "       [202.92730329],\n",
              "       [202.91477471],\n",
              "       [202.90417446],\n",
              "       [202.89520571],\n",
              "       [202.88761733],\n",
              "       [202.88119686],\n",
              "       [202.87576454],\n",
              "       [202.87116828],\n",
              "       [202.8672794 ],\n",
              "       [202.86398904],\n",
              "       [202.86120507],\n",
              "       [202.85884956],\n",
              "       [202.85685656],\n",
              "       [202.85517029],\n",
              "       [202.85374353],\n",
              "       [202.85253636],\n",
              "       [202.85151496],\n",
              "       [202.85065076],\n",
              "       [202.84991956],\n",
              "       [202.8493009 ],\n",
              "       [202.84877744],\n",
              "       [202.84833454],\n",
              "       [202.84795981],\n",
              "       [202.84764274],\n",
              "       [202.84737447],\n",
              "       [202.84714749],\n",
              "       [202.84695544]])"
            ]
          },
          "metadata": {
            "tags": []
          },
          "execution_count": 54
        }
      ]
    },
    {
      "cell_type": "code",
      "metadata": {
        "id": "lVyw8mPAnQOd",
        "colab_type": "code",
        "colab": {}
      },
      "source": [
        "# IGNORE WARNINGS\n",
        "test = pd.DataFrame(test)\n",
        "test['Predictions'] = true_predictions"
      ],
      "execution_count": 56,
      "outputs": []
    },
    {
      "cell_type": "code",
      "metadata": {
        "id": "XEb2TKsbnQOf",
        "colab_type": "code",
        "colab": {
          "base_uri": "https://localhost:8080/",
          "height": 935
        },
        "outputId": "acbb962d-7dff-4b9c-9c51-afe7615b32f5"
      },
      "source": [
        "test"
      ],
      "execution_count": 57,
      "outputs": [
        {
          "output_type": "execute_result",
          "data": {
            "text/html": [
              "<div>\n",
              "<style scoped>\n",
              "    .dataframe tbody tr th:only-of-type {\n",
              "        vertical-align: middle;\n",
              "    }\n",
              "\n",
              "    .dataframe tbody tr th {\n",
              "        vertical-align: top;\n",
              "    }\n",
              "\n",
              "    .dataframe thead th {\n",
              "        text-align: right;\n",
              "    }\n",
              "</style>\n",
              "<table border=\"1\" class=\"dataframe\">\n",
              "  <thead>\n",
              "    <tr style=\"text-align: right;\">\n",
              "      <th></th>\n",
              "      <th>0</th>\n",
              "      <th>Predictions</th>\n",
              "    </tr>\n",
              "  </thead>\n",
              "  <tbody>\n",
              "    <tr>\n",
              "      <th>0</th>\n",
              "      <td>202.980298</td>\n",
              "      <td>200.074521</td>\n",
              "    </tr>\n",
              "    <tr>\n",
              "      <th>1</th>\n",
              "      <td>202.959613</td>\n",
              "      <td>199.876478</td>\n",
              "    </tr>\n",
              "    <tr>\n",
              "      <th>2</th>\n",
              "      <td>202.942111</td>\n",
              "      <td>199.710546</td>\n",
              "    </tr>\n",
              "    <tr>\n",
              "      <th>3</th>\n",
              "      <td>202.927303</td>\n",
              "      <td>199.566791</td>\n",
              "    </tr>\n",
              "    <tr>\n",
              "      <th>4</th>\n",
              "      <td>202.914775</td>\n",
              "      <td>199.441536</td>\n",
              "    </tr>\n",
              "    <tr>\n",
              "      <th>5</th>\n",
              "      <td>202.904174</td>\n",
              "      <td>199.331928</td>\n",
              "    </tr>\n",
              "    <tr>\n",
              "      <th>6</th>\n",
              "      <td>202.895206</td>\n",
              "      <td>199.235728</td>\n",
              "    </tr>\n",
              "    <tr>\n",
              "      <th>7</th>\n",
              "      <td>202.887617</td>\n",
              "      <td>199.151101</td>\n",
              "    </tr>\n",
              "    <tr>\n",
              "      <th>8</th>\n",
              "      <td>202.881197</td>\n",
              "      <td>199.076559</td>\n",
              "    </tr>\n",
              "    <tr>\n",
              "      <th>9</th>\n",
              "      <td>202.875765</td>\n",
              "      <td>199.010872</td>\n",
              "    </tr>\n",
              "    <tr>\n",
              "      <th>10</th>\n",
              "      <td>202.871168</td>\n",
              "      <td>198.952940</td>\n",
              "    </tr>\n",
              "    <tr>\n",
              "      <th>11</th>\n",
              "      <td>202.867279</td>\n",
              "      <td>198.901904</td>\n",
              "    </tr>\n",
              "    <tr>\n",
              "      <th>12</th>\n",
              "      <td>202.863989</td>\n",
              "      <td>198.858051</td>\n",
              "    </tr>\n",
              "    <tr>\n",
              "      <th>13</th>\n",
              "      <td>202.861205</td>\n",
              "      <td>198.835427</td>\n",
              "    </tr>\n",
              "    <tr>\n",
              "      <th>14</th>\n",
              "      <td>202.858850</td>\n",
              "      <td>198.816666</td>\n",
              "    </tr>\n",
              "    <tr>\n",
              "      <th>15</th>\n",
              "      <td>202.856857</td>\n",
              "      <td>198.801089</td>\n",
              "    </tr>\n",
              "    <tr>\n",
              "      <th>16</th>\n",
              "      <td>202.855170</td>\n",
              "      <td>198.788163</td>\n",
              "    </tr>\n",
              "    <tr>\n",
              "      <th>17</th>\n",
              "      <td>202.853744</td>\n",
              "      <td>198.777476</td>\n",
              "    </tr>\n",
              "    <tr>\n",
              "      <th>18</th>\n",
              "      <td>202.852536</td>\n",
              "      <td>198.768674</td>\n",
              "    </tr>\n",
              "    <tr>\n",
              "      <th>19</th>\n",
              "      <td>202.851515</td>\n",
              "      <td>198.761452</td>\n",
              "    </tr>\n",
              "    <tr>\n",
              "      <th>20</th>\n",
              "      <td>202.850651</td>\n",
              "      <td>198.755549</td>\n",
              "    </tr>\n",
              "    <tr>\n",
              "      <th>21</th>\n",
              "      <td>202.849920</td>\n",
              "      <td>198.750774</td>\n",
              "    </tr>\n",
              "    <tr>\n",
              "      <th>22</th>\n",
              "      <td>202.849301</td>\n",
              "      <td>198.746940</td>\n",
              "    </tr>\n",
              "    <tr>\n",
              "      <th>23</th>\n",
              "      <td>202.848777</td>\n",
              "      <td>198.743891</td>\n",
              "    </tr>\n",
              "    <tr>\n",
              "      <th>24</th>\n",
              "      <td>202.848335</td>\n",
              "      <td>198.741492</td>\n",
              "    </tr>\n",
              "    <tr>\n",
              "      <th>25</th>\n",
              "      <td>202.847960</td>\n",
              "      <td>198.739636</td>\n",
              "    </tr>\n",
              "    <tr>\n",
              "      <th>26</th>\n",
              "      <td>202.847643</td>\n",
              "      <td>198.738101</td>\n",
              "    </tr>\n",
              "    <tr>\n",
              "      <th>27</th>\n",
              "      <td>202.847374</td>\n",
              "      <td>198.736874</td>\n",
              "    </tr>\n",
              "    <tr>\n",
              "      <th>28</th>\n",
              "      <td>202.847147</td>\n",
              "      <td>198.735882</td>\n",
              "    </tr>\n",
              "    <tr>\n",
              "      <th>29</th>\n",
              "      <td>202.846955</td>\n",
              "      <td>198.735072</td>\n",
              "    </tr>\n",
              "  </tbody>\n",
              "</table>\n",
              "</div>"
            ],
            "text/plain": [
              "             0  Predictions\n",
              "0   202.980298   200.074521\n",
              "1   202.959613   199.876478\n",
              "2   202.942111   199.710546\n",
              "3   202.927303   199.566791\n",
              "4   202.914775   199.441536\n",
              "5   202.904174   199.331928\n",
              "6   202.895206   199.235728\n",
              "7   202.887617   199.151101\n",
              "8   202.881197   199.076559\n",
              "9   202.875765   199.010872\n",
              "10  202.871168   198.952940\n",
              "11  202.867279   198.901904\n",
              "12  202.863989   198.858051\n",
              "13  202.861205   198.835427\n",
              "14  202.858850   198.816666\n",
              "15  202.856857   198.801089\n",
              "16  202.855170   198.788163\n",
              "17  202.853744   198.777476\n",
              "18  202.852536   198.768674\n",
              "19  202.851515   198.761452\n",
              "20  202.850651   198.755549\n",
              "21  202.849920   198.750774\n",
              "22  202.849301   198.746940\n",
              "23  202.848777   198.743891\n",
              "24  202.848335   198.741492\n",
              "25  202.847960   198.739636\n",
              "26  202.847643   198.738101\n",
              "27  202.847374   198.736874\n",
              "28  202.847147   198.735882\n",
              "29  202.846955   198.735072"
            ]
          },
          "metadata": {
            "tags": []
          },
          "execution_count": 57
        }
      ]
    }
  ]
}